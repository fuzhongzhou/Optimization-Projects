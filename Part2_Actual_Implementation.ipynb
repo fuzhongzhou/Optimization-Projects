{
 "cells": [
  {
   "cell_type": "markdown",
   "metadata": {},
   "source": [
    "# Actual Data"
   ]
  },
  {
   "cell_type": "code",
   "execution_count": 1,
   "metadata": {},
   "outputs": [],
   "source": [
    "from cov_est import *\n",
    "from peformance import *\n",
    "import matplotlib.pyplot as plt"
   ]
  },
  {
   "cell_type": "code",
   "execution_count": 2,
   "metadata": {},
   "outputs": [],
   "source": [
    "def is_symmetric(a, rtol=1e-5, atol=1e-8):\n",
    "    return np.allclose(a, a.T, rtol=rtol, atol=atol)"
   ]
  },
  {
   "cell_type": "code",
   "execution_count": 3,
   "metadata": {},
   "outputs": [],
   "source": [
    "stock = pd.read_csv('stock.csv')\n",
    "factors = pd.read_csv('factors.csv')"
   ]
  },
  {
   "cell_type": "code",
   "execution_count": 4,
   "metadata": {},
   "outputs": [],
   "source": [
    "N = 1005   # period\n",
    "delta = 1 / 252\n",
    "train_ratio = 0.8\n",
    "train_index = int(N*train_ratio)"
   ]
  },
  {
   "cell_type": "code",
   "execution_count": 5,
   "metadata": {},
   "outputs": [],
   "source": [
    "ret_df = stock.pivot_table(values='ret', columns='cusip', index='date')\n",
    "ret = ret_df[-N:].dropna(axis=1, how='any').values"
   ]
  },
  {
   "cell_type": "code",
   "execution_count": 6,
   "metadata": {},
   "outputs": [],
   "source": [
    "r_train = ret[:train_index]\n",
    "r_test = ret[train_index:]"
   ]
  },
  {
   "cell_type": "code",
   "execution_count": 7,
   "metadata": {},
   "outputs": [],
   "source": [
    "f = factors.iloc[-N:,1:][:train_index].values"
   ]
  },
  {
   "cell_type": "code",
   "execution_count": 8,
   "metadata": {},
   "outputs": [],
   "source": [
    "assert(is_symmetric(sampleCov(r_train/delta)))"
   ]
  },
  {
   "cell_type": "code",
   "execution_count": 9,
   "metadata": {},
   "outputs": [
    {
     "name": "stderr",
     "output_type": "stream",
     "text": [
      "/Users/shuoyi/Optimization-Projects/peformance.py:51: RuntimeWarning: invalid value encountered in log\n",
      "  return (x.T@covmat@x/2-np.ones(N)@np.log(x)/N)**2\n"
     ]
    },
    {
     "name": "stdout",
     "output_type": "stream",
     "text": [
      "            minvar_in  minvar_out  maxdiv_in  maxdiv_out  riskpar_in  \\\n",
      "sample       0.048445   -0.109785   0.088547    0.076018    0.071774   \n",
      "const        0.017718   -0.097073   0.041209    0.033060    0.041656   \n",
      "single_fac   0.027191   -0.100171   0.103455    0.078256    0.076437   \n",
      "multi_fac    0.047346    0.058215   0.095955    0.071314    0.066309   \n",
      "\n",
      "            riskpar_out  \n",
      "sample         0.056950  \n",
      "const          0.034848  \n",
      "single_fac     0.057872  \n",
      "multi_fac      0.066007  \n"
     ]
    }
   ],
   "source": [
    "res = eval((r_train,r_test), delta, f)\n",
    "print(res)"
   ]
  },
  {
   "cell_type": "markdown",
   "metadata": {},
   "source": [
    "# Comparison"
   ]
  },
  {
   "cell_type": "code",
   "execution_count": 10,
   "metadata": {},
   "outputs": [
    {
     "name": "stdout",
     "output_type": "stream",
     "text": [
      "Without linear factor structure\n",
      "            minvar_in  minvar_out  maxdiv_in  maxdiv_out  riskpar_in  \\\n",
      "sample       0.103569    0.164875   0.101744    0.162825    0.060491   \n",
      "const        0.074847    0.093929   0.056597    0.094989    0.056601   \n",
      "single_fac   0.016656    0.074489   0.016014    0.083635    0.035667   \n",
      "multi_fac    0.087590    0.099986   0.074917    0.097766    0.074968   \n",
      "\n",
      "            riskpar_out  \n",
      "sample         0.121075  \n",
      "const          0.094994  \n",
      "single_fac     0.085596  \n",
      "multi_fac      0.096648  \n",
      "--------------------------------------------------------------------------------\n",
      "With linear factor structure\n",
      "            minvar_in  minvar_out  maxdiv_in  maxdiv_out  riskpar_in  \\\n",
      "sample       0.020419    0.028931   0.013629    0.061232    0.024503   \n",
      "const        0.120910    0.068591   0.128165    0.094259    0.127899   \n",
      "single_fac   0.045667   -0.149358   0.051939   -0.118983    0.060757   \n",
      "multi_fac    0.117362    0.067130   0.124800    0.094259    0.124928   \n",
      "\n",
      "            riskpar_out  \n",
      "sample        -0.002524  \n",
      "const          0.094164  \n",
      "single_fac    -0.090656  \n",
      "multi_fac      0.094469  \n",
      "0\n"
     ]
    }
   ],
   "source": [
    "!python artificial.py"
   ]
  }
 ],
 "metadata": {
  "kernelspec": {
   "display_name": "Python 3",
   "language": "python",
   "name": "python3"
  },
  "language_info": {
   "codemirror_mode": {
    "name": "ipython",
    "version": 3
   },
   "file_extension": ".py",
   "mimetype": "text/x-python",
   "name": "python",
   "nbconvert_exporter": "python",
   "pygments_lexer": "ipython3",
   "version": "3.7.3"
  }
 },
 "nbformat": 4,
 "nbformat_minor": 2
}
