{
 "cells": [
  {
   "cell_type": "markdown",
   "metadata": {},
   "source": [
    "# Actual Data"
   ]
  },
  {
   "cell_type": "code",
   "execution_count": 1,
   "metadata": {},
   "outputs": [],
   "source": [
    "from cov_est import *\n",
    "from performance import *\n",
    "import matplotlib.pyplot as plt"
   ]
  },
  {
   "cell_type": "code",
   "execution_count": 2,
   "metadata": {},
   "outputs": [],
   "source": [
    "def is_symmetric(a, rtol=1e-5, atol=1e-8):\n",
    "    return np.allclose(a, a.T, rtol=rtol, atol=atol)"
   ]
  },
  {
   "cell_type": "code",
   "execution_count": 3,
   "metadata": {},
   "outputs": [],
   "source": [
    "stock = pd.read_csv('stock.csv')\n",
    "factors = pd.read_csv('factors.csv')"
   ]
  },
  {
   "cell_type": "code",
   "execution_count": 4,
   "metadata": {},
   "outputs": [],
   "source": [
    "N = 1005   # period\n",
    "delta = 1 / 252\n",
    "train_ratio = 0.8\n",
    "train_index = int(N*train_ratio)"
   ]
  },
  {
   "cell_type": "code",
   "execution_count": 5,
   "metadata": {},
   "outputs": [],
   "source": [
    "ret_df = stock.pivot_table(values='ret', columns='cusip', index='date')\n",
    "ret = ret_df[-N:].dropna(axis=1, how='any').values"
   ]
  },
  {
   "cell_type": "code",
   "execution_count": 6,
   "metadata": {},
   "outputs": [],
   "source": [
    "r_train = ret[:train_index]\n",
    "r_test = ret[train_index:]"
   ]
  },
  {
   "cell_type": "code",
   "execution_count": 7,
   "metadata": {},
   "outputs": [],
   "source": [
    "f = factors.iloc[-N:,1:][:train_index].values"
   ]
  },
  {
   "cell_type": "code",
   "execution_count": 8,
   "metadata": {},
   "outputs": [],
   "source": [
    "assert(is_symmetric(sampleCov(r_train/delta)))"
   ]
  },
  {
   "cell_type": "code",
   "execution_count": 9,
   "metadata": {},
   "outputs": [
    {
     "name": "stderr",
     "output_type": "stream",
     "text": [
      "C:\\Files\\Jupyter\\Optimization\\project\\performance.py:51: RuntimeWarning: invalid value encountered in log\n",
      "  return (x.T@covmat@x/2-np.ones(N)@np.log(x)/N)**2\n"
     ]
    },
    {
     "name": "stdout",
     "output_type": "stream",
     "text": [
      "            minvar_in  minvar_out  maxdiv_in  maxdiv_out  riskpar_in  \\\n",
      "sample       0.769042   -1.742785   1.405641    1.206740    1.140226   \n",
      "const        0.281270   -1.540993   0.654171    0.524806    0.654441   \n",
      "single_fac   0.431646   -1.590161   1.642303    1.242282    1.218354   \n",
      "multi_fac    0.751591    0.924133   1.523235    1.132081    1.052732   \n",
      "\n",
      "            riskpar_out  \n",
      "sample         0.903962  \n",
      "const          0.523758  \n",
      "single_fac     0.920158  \n",
      "multi_fac      1.048703  \n"
     ]
    }
   ],
   "source": [
    "res = eval((r_train,r_test), delta, f=f, bench_f=f[:, 0])\n",
    "print(res)"
   ]
  },
  {
   "cell_type": "markdown",
   "metadata": {},
   "source": [
    "# Comparison"
   ]
  },
  {
   "cell_type": "code",
   "execution_count": 10,
   "metadata": {},
   "outputs": [
    {
     "name": "stdout",
     "output_type": "stream",
     "text": [
      "Without linear factor structure\n",
      "            minvar_in  minvar_out  maxdiv_in  maxdiv_out  riskpar_in  \\\n",
      "sample       1.644110    2.617307   1.615133    2.584773    0.960374   \n",
      "const        1.188160    1.491080   0.898443    1.507911    0.898508   \n",
      "single_fac   0.264404    1.182479   0.254209    1.327665    0.566031   \n",
      "multi_fac    1.390444    1.587226   1.189265    1.551987    1.190072   \n",
      "\n",
      "            riskpar_out  \n",
      "sample         1.921933  \n",
      "const          1.507981  \n",
      "single_fac     1.360401  \n",
      "multi_fac      1.534228  \n",
      "--------------------------------------------------------------------------------\n",
      "With linear factor structure\n",
      "            minvar_in  minvar_out  maxdiv_in  maxdiv_out  riskpar_in  \\\n",
      "sample       0.324135    0.459263   0.216359    0.972021    0.388951   \n",
      "const        1.919394    1.088853   2.034555    1.496312    2.030306   \n",
      "single_fac   0.724936   -2.370988   0.824505   -1.888804    0.965741   \n",
      "multi_fac    1.863066    1.065654   1.981132    1.496309    1.983174   \n",
      "\n",
      "            riskpar_out  \n",
      "sample        -0.040052  \n",
      "const          1.494780  \n",
      "single_fac    -1.436879  \n",
      "multi_fac      1.499651  \n",
      "0\n"
     ]
    }
   ],
   "source": [
    "!python artificial.py"
   ]
  }
 ],
 "metadata": {
  "kernelspec": {
   "display_name": "Python 3",
   "language": "python",
   "name": "python3"
  },
  "language_info": {
   "codemirror_mode": {
    "name": "ipython",
    "version": 3
   },
   "file_extension": ".py",
   "mimetype": "text/x-python",
   "name": "python",
   "nbconvert_exporter": "python",
   "pygments_lexer": "ipython3",
   "version": "3.7.1"
  }
 },
 "nbformat": 4,
 "nbformat_minor": 2
}
