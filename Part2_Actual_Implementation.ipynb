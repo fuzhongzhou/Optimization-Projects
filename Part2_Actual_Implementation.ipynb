{
 "cells": [
  {
   "cell_type": "markdown",
   "metadata": {},
   "source": [
    "# Actual Data"
   ]
  },
  {
   "cell_type": "code",
   "execution_count": 1,
   "metadata": {},
   "outputs": [],
   "source": [
    "from cov_est import *\n",
    "from peformance import *\n",
    "import matplotlib.pyplot as plt"
   ]
  },
  {
   "cell_type": "code",
   "execution_count": 2,
   "metadata": {},
   "outputs": [],
   "source": [
    "def is_symmetric(a, rtol=1e-5, atol=1e-8):\n",
    "    return np.allclose(a, a.T, rtol=rtol, atol=atol)"
   ]
  },
  {
   "cell_type": "code",
   "execution_count": 3,
   "metadata": {},
   "outputs": [],
   "source": [
    "stock = pd.read_csv('stock.csv')\n",
    "factors = pd.read_csv('factors.csv')"
   ]
  },
  {
   "cell_type": "code",
   "execution_count": 4,
   "metadata": {},
   "outputs": [],
   "source": [
    "N = 1005   # period\n",
    "delta = 1 / 252\n",
    "train_ratio = 0.8\n",
    "train_index = int(N*train_ratio)"
   ]
  },
  {
   "cell_type": "code",
   "execution_count": 5,
   "metadata": {},
   "outputs": [],
   "source": [
    "ret_df = stock.pivot_table(values='ret', columns='cusip', index='date')\n",
    "ret = ret_df[-N:].dropna(axis=1, how='any').values"
   ]
  },
  {
   "cell_type": "code",
   "execution_count": 6,
   "metadata": {},
   "outputs": [],
   "source": [
    "r_train = ret[:train_index]\n",
    "r_test = ret[train_index:]"
   ]
  },
  {
   "cell_type": "code",
   "execution_count": 7,
   "metadata": {},
   "outputs": [],
   "source": [
    "f = factors.iloc[-N:,1:][:train_index].values"
   ]
  },
  {
   "cell_type": "code",
   "execution_count": 11,
   "metadata": {},
   "outputs": [],
   "source": [
    "assert(is_symmetric(sampleCov(r_train/delta)))"
   ]
  },
  {
   "cell_type": "code",
   "execution_count": 12,
   "metadata": {},
   "outputs": [
    {
     "name": "stderr",
     "output_type": "stream",
     "text": [
      "/Users/shuoyi/Optimization-Projects/peformance.py:51: RuntimeWarning: invalid value encountered in log\n",
      "  return (x.T@covmat@x/2-np.ones(N)@np.log(x)/N)**2\n"
     ]
    },
    {
     "data": {
      "text/html": [
       "<div>\n",
       "<style scoped>\n",
       "    .dataframe tbody tr th:only-of-type {\n",
       "        vertical-align: middle;\n",
       "    }\n",
       "\n",
       "    .dataframe tbody tr th {\n",
       "        vertical-align: top;\n",
       "    }\n",
       "\n",
       "    .dataframe thead th {\n",
       "        text-align: right;\n",
       "    }\n",
       "</style>\n",
       "<table border=\"1\" class=\"dataframe\">\n",
       "  <thead>\n",
       "    <tr style=\"text-align: right;\">\n",
       "      <th></th>\n",
       "      <th>minvar_in</th>\n",
       "      <th>minvar_out</th>\n",
       "      <th>maxdiv_in</th>\n",
       "      <th>maxdiv_out</th>\n",
       "      <th>riskpar_in</th>\n",
       "      <th>riskpar_out</th>\n",
       "    </tr>\n",
       "  </thead>\n",
       "  <tbody>\n",
       "    <tr>\n",
       "      <th>sample</th>\n",
       "      <td>0.048445</td>\n",
       "      <td>-0.109785</td>\n",
       "      <td>0.088547</td>\n",
       "      <td>0.076018</td>\n",
       "      <td>0.071774</td>\n",
       "      <td>0.056950</td>\n",
       "    </tr>\n",
       "    <tr>\n",
       "      <th>const</th>\n",
       "      <td>0.017718</td>\n",
       "      <td>-0.097073</td>\n",
       "      <td>0.041209</td>\n",
       "      <td>0.033060</td>\n",
       "      <td>0.041656</td>\n",
       "      <td>0.034848</td>\n",
       "    </tr>\n",
       "    <tr>\n",
       "      <th>single_fac</th>\n",
       "      <td>0.027191</td>\n",
       "      <td>-0.100171</td>\n",
       "      <td>0.103455</td>\n",
       "      <td>0.078256</td>\n",
       "      <td>0.076437</td>\n",
       "      <td>0.057872</td>\n",
       "    </tr>\n",
       "    <tr>\n",
       "      <th>multi_fac</th>\n",
       "      <td>0.047346</td>\n",
       "      <td>0.058215</td>\n",
       "      <td>0.095955</td>\n",
       "      <td>0.071314</td>\n",
       "      <td>0.066309</td>\n",
       "      <td>0.066007</td>\n",
       "    </tr>\n",
       "  </tbody>\n",
       "</table>\n",
       "</div>"
      ],
      "text/plain": [
       "            minvar_in  minvar_out  maxdiv_in  maxdiv_out  riskpar_in  \\\n",
       "sample       0.048445   -0.109785   0.088547    0.076018    0.071774   \n",
       "const        0.017718   -0.097073   0.041209    0.033060    0.041656   \n",
       "single_fac   0.027191   -0.100171   0.103455    0.078256    0.076437   \n",
       "multi_fac    0.047346    0.058215   0.095955    0.071314    0.066309   \n",
       "\n",
       "            riskpar_out  \n",
       "sample         0.056950  \n",
       "const          0.034848  \n",
       "single_fac     0.057872  \n",
       "multi_fac      0.066007  "
      ]
     },
     "metadata": {},
     "output_type": "display_data"
    }
   ],
   "source": [
    "res = eval((r_train,r_test), delta, f)\n",
    "display(res)"
   ]
  },
  {
   "cell_type": "markdown",
   "metadata": {},
   "source": [
    "# Comparison"
   ]
  },
  {
   "cell_type": "code",
   "execution_count": 13,
   "metadata": {},
   "outputs": [
    {
     "name": "stdout",
     "output_type": "stream",
     "text": [
      "Without linear factor structure\n",
      "--------------------------------------------------------------------------------\n",
      "With linear factor structure\n",
      "0\n"
     ]
    }
   ],
   "source": [
    "!python artificial.py"
   ]
  },
  {
   "cell_type": "code",
   "execution_count": 14,
   "metadata": {},
   "outputs": [
    {
     "ename": "NameError",
     "evalue": "name 'res_nonlinear' is not defined",
     "output_type": "error",
     "traceback": [
      "\u001b[0;31m---------------------------------------------------------------------------\u001b[0m",
      "\u001b[0;31mNameError\u001b[0m                                 Traceback (most recent call last)",
      "\u001b[0;32m<ipython-input-14-83c24d8acd32>\u001b[0m in \u001b[0;36m<module>\u001b[0;34m\u001b[0m\n\u001b[0;32m----> 1\u001b[0;31m \u001b[0mres_nonlinear\u001b[0m\u001b[0;34m\u001b[0m\u001b[0;34m\u001b[0m\u001b[0m\n\u001b[0m",
      "\u001b[0;31mNameError\u001b[0m: name 'res_nonlinear' is not defined"
     ]
    }
   ],
   "source": [
    "res_nonlinear"
   ]
  },
  {
   "cell_type": "code",
   "execution_count": null,
   "metadata": {},
   "outputs": [],
   "source": []
  }
 ],
 "metadata": {
  "kernelspec": {
   "display_name": "Python 3",
   "language": "python",
   "name": "python3"
  },
  "language_info": {
   "codemirror_mode": {
    "name": "ipython",
    "version": 3
   },
   "file_extension": ".py",
   "mimetype": "text/x-python",
   "name": "python",
   "nbconvert_exporter": "python",
   "pygments_lexer": "ipython3",
   "version": "3.7.3"
  }
 },
 "nbformat": 4,
 "nbformat_minor": 2
}
