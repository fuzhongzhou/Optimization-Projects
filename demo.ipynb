{
 "cells": [
  {
   "cell_type": "markdown",
   "metadata": {},
   "source": [
    "# Actual Data"
   ]
  },
  {
   "cell_type": "code",
   "execution_count": 1,
   "metadata": {},
   "outputs": [],
   "source": [
    "from cov_est import *\n",
    "from performance import *\n",
    "import matplotlib.pyplot as plt"
   ]
  },
  {
   "cell_type": "code",
   "execution_count": 2,
   "metadata": {},
   "outputs": [],
   "source": [
    "stock = pd.read_csv('stock.csv')\n",
    "factors = pd.read_csv('factors.csv')"
   ]
  },
  {
   "cell_type": "code",
   "execution_count": 3,
   "metadata": {},
   "outputs": [],
   "source": [
    "N = 1005   # period\n",
    "delta = 1 / 252\n",
    "train_ratio = 0.8\n",
    "train_index = int(N*train_ratio)"
   ]
  },
  {
   "cell_type": "code",
   "execution_count": 4,
   "metadata": {},
   "outputs": [],
   "source": [
    "ret_df = stock.pivot_table(values='ret', columns='cusip', index='date')\n",
    "ret = ret_df[-N:].dropna(axis=1, how='any').values"
   ]
  },
  {
   "cell_type": "code",
   "execution_count": 5,
   "metadata": {},
   "outputs": [],
   "source": [
    "r_train = ret[:train_index]\n",
    "r_test = ret[train_index:]"
   ]
  },
  {
   "cell_type": "code",
   "execution_count": 6,
   "metadata": {},
   "outputs": [],
   "source": [
    "f = factors.iloc[-N:,1:][:train_index].values"
   ]
  },
  {
   "cell_type": "code",
   "execution_count": 8,
   "metadata": {},
   "outputs": [
    {
     "name": "stderr",
     "output_type": "stream",
     "text": [
      "/Users/shuoyi/Optimization-Projects/performance.py:51: RuntimeWarning: invalid value encountered in log\n",
      "  return (x.T@covmat@x/2-np.ones(N)@np.log(x)/N)**2\n"
     ]
    },
    {
     "data": {
      "text/html": [
       "<div>\n",
       "<style scoped>\n",
       "    .dataframe tbody tr th:only-of-type {\n",
       "        vertical-align: middle;\n",
       "    }\n",
       "\n",
       "    .dataframe tbody tr th {\n",
       "        vertical-align: top;\n",
       "    }\n",
       "\n",
       "    .dataframe thead th {\n",
       "        text-align: right;\n",
       "    }\n",
       "</style>\n",
       "<table border=\"1\" class=\"dataframe\">\n",
       "  <thead>\n",
       "    <tr style=\"text-align: right;\">\n",
       "      <th></th>\n",
       "      <th>minvar_in</th>\n",
       "      <th>minvar_out</th>\n",
       "      <th>maxdiv_in</th>\n",
       "      <th>maxdiv_out</th>\n",
       "      <th>riskpar_in</th>\n",
       "      <th>riskpar_out</th>\n",
       "    </tr>\n",
       "  </thead>\n",
       "  <tbody>\n",
       "    <tr>\n",
       "      <th>sample</th>\n",
       "      <td>0.769042</td>\n",
       "      <td>-1.742785</td>\n",
       "      <td>1.405641</td>\n",
       "      <td>1.206740</td>\n",
       "      <td>1.139381</td>\n",
       "      <td>0.904059</td>\n",
       "    </tr>\n",
       "    <tr>\n",
       "      <th>const</th>\n",
       "      <td>0.281270</td>\n",
       "      <td>-1.540993</td>\n",
       "      <td>0.654171</td>\n",
       "      <td>0.524806</td>\n",
       "      <td>0.661269</td>\n",
       "      <td>0.553200</td>\n",
       "    </tr>\n",
       "    <tr>\n",
       "      <th>single_fac</th>\n",
       "      <td>0.616962</td>\n",
       "      <td>-0.737081</td>\n",
       "      <td>1.687746</td>\n",
       "      <td>1.233348</td>\n",
       "      <td>1.397599</td>\n",
       "      <td>0.972042</td>\n",
       "    </tr>\n",
       "    <tr>\n",
       "      <th>multi_fac</th>\n",
       "      <td>0.751591</td>\n",
       "      <td>0.924133</td>\n",
       "      <td>1.523235</td>\n",
       "      <td>1.132081</td>\n",
       "      <td>1.052627</td>\n",
       "      <td>1.047824</td>\n",
       "    </tr>\n",
       "  </tbody>\n",
       "</table>\n",
       "</div>"
      ],
      "text/plain": [
       "            minvar_in  minvar_out  maxdiv_in  maxdiv_out  riskpar_in  \\\n",
       "sample       0.769042   -1.742785   1.405641    1.206740    1.139381   \n",
       "const        0.281270   -1.540993   0.654171    0.524806    0.661269   \n",
       "single_fac   0.616962   -0.737081   1.687746    1.233348    1.397599   \n",
       "multi_fac    0.751591    0.924133   1.523235    1.132081    1.052627   \n",
       "\n",
       "            riskpar_out  \n",
       "sample         0.904059  \n",
       "const          0.553200  \n",
       "single_fac     0.972042  \n",
       "multi_fac      1.047824  "
      ]
     },
     "metadata": {},
     "output_type": "display_data"
    }
   ],
   "source": [
    "res = eval((r_train,r_test), delta, f=f, bench_f=f[:, 0])\n",
    "display(res)"
   ]
  },
  {
   "cell_type": "markdown",
   "metadata": {},
   "source": [
    "# Artificial Data"
   ]
  },
  {
   "cell_type": "code",
   "execution_count": 10,
   "metadata": {},
   "outputs": [
    {
     "name": "stdout",
     "output_type": "stream",
     "text": [
      "Without linear factor structure\n"
     ]
    },
    {
     "data": {
      "text/html": [
       "<div>\n",
       "<style scoped>\n",
       "    .dataframe tbody tr th:only-of-type {\n",
       "        vertical-align: middle;\n",
       "    }\n",
       "\n",
       "    .dataframe tbody tr th {\n",
       "        vertical-align: top;\n",
       "    }\n",
       "\n",
       "    .dataframe thead th {\n",
       "        text-align: right;\n",
       "    }\n",
       "</style>\n",
       "<table border=\"1\" class=\"dataframe\">\n",
       "  <thead>\n",
       "    <tr style=\"text-align: right;\">\n",
       "      <th></th>\n",
       "      <th>minvar_in</th>\n",
       "      <th>minvar_out</th>\n",
       "      <th>maxdiv_in</th>\n",
       "      <th>maxdiv_out</th>\n",
       "      <th>riskpar_in</th>\n",
       "      <th>riskpar_out</th>\n",
       "    </tr>\n",
       "  </thead>\n",
       "  <tbody>\n",
       "    <tr>\n",
       "      <th>sample</th>\n",
       "      <td>1.644110</td>\n",
       "      <td>2.617307</td>\n",
       "      <td>1.615133</td>\n",
       "      <td>2.584773</td>\n",
       "      <td>0.957978</td>\n",
       "      <td>1.922039</td>\n",
       "    </tr>\n",
       "    <tr>\n",
       "      <th>const</th>\n",
       "      <td>1.188160</td>\n",
       "      <td>1.491080</td>\n",
       "      <td>0.898443</td>\n",
       "      <td>1.507911</td>\n",
       "      <td>0.898508</td>\n",
       "      <td>1.507981</td>\n",
       "    </tr>\n",
       "    <tr>\n",
       "      <th>single_fac</th>\n",
       "      <td>0.264404</td>\n",
       "      <td>1.182479</td>\n",
       "      <td>0.254209</td>\n",
       "      <td>1.327665</td>\n",
       "      <td>0.565905</td>\n",
       "      <td>1.364096</td>\n",
       "    </tr>\n",
       "    <tr>\n",
       "      <th>multi_fac</th>\n",
       "      <td>1.390444</td>\n",
       "      <td>1.587226</td>\n",
       "      <td>1.189265</td>\n",
       "      <td>1.551987</td>\n",
       "      <td>1.190071</td>\n",
       "      <td>1.534237</td>\n",
       "    </tr>\n",
       "  </tbody>\n",
       "</table>\n",
       "</div>"
      ],
      "text/plain": [
       "            minvar_in  minvar_out  maxdiv_in  maxdiv_out  riskpar_in  \\\n",
       "sample       1.644110    2.617307   1.615133    2.584773    0.957978   \n",
       "const        1.188160    1.491080   0.898443    1.507911    0.898508   \n",
       "single_fac   0.264404    1.182479   0.254209    1.327665    0.565905   \n",
       "multi_fac    1.390444    1.587226   1.189265    1.551987    1.190071   \n",
       "\n",
       "            riskpar_out  \n",
       "sample         1.922039  \n",
       "const          1.507981  \n",
       "single_fac     1.364096  \n",
       "multi_fac      1.534237  "
      ]
     },
     "metadata": {},
     "output_type": "display_data"
    },
    {
     "name": "stdout",
     "output_type": "stream",
     "text": [
      "--------------------------------------------------------------------------------\n",
      "With linear factor structure\n"
     ]
    },
    {
     "data": {
      "text/html": [
       "<div>\n",
       "<style scoped>\n",
       "    .dataframe tbody tr th:only-of-type {\n",
       "        vertical-align: middle;\n",
       "    }\n",
       "\n",
       "    .dataframe tbody tr th {\n",
       "        vertical-align: top;\n",
       "    }\n",
       "\n",
       "    .dataframe thead th {\n",
       "        text-align: right;\n",
       "    }\n",
       "</style>\n",
       "<table border=\"1\" class=\"dataframe\">\n",
       "  <thead>\n",
       "    <tr style=\"text-align: right;\">\n",
       "      <th></th>\n",
       "      <th>minvar_in</th>\n",
       "      <th>minvar_out</th>\n",
       "      <th>maxdiv_in</th>\n",
       "      <th>maxdiv_out</th>\n",
       "      <th>riskpar_in</th>\n",
       "      <th>riskpar_out</th>\n",
       "    </tr>\n",
       "  </thead>\n",
       "  <tbody>\n",
       "    <tr>\n",
       "      <th>sample</th>\n",
       "      <td>0.324135</td>\n",
       "      <td>0.459263</td>\n",
       "      <td>0.216359</td>\n",
       "      <td>0.972021</td>\n",
       "      <td>0.388957</td>\n",
       "      <td>-0.040061</td>\n",
       "    </tr>\n",
       "    <tr>\n",
       "      <th>const</th>\n",
       "      <td>1.919394</td>\n",
       "      <td>1.088853</td>\n",
       "      <td>2.034555</td>\n",
       "      <td>1.496312</td>\n",
       "      <td>2.030639</td>\n",
       "      <td>1.495020</td>\n",
       "    </tr>\n",
       "    <tr>\n",
       "      <th>single_fac</th>\n",
       "      <td>0.724936</td>\n",
       "      <td>-2.370988</td>\n",
       "      <td>0.824505</td>\n",
       "      <td>-1.888804</td>\n",
       "      <td>0.964412</td>\n",
       "      <td>-1.439753</td>\n",
       "    </tr>\n",
       "    <tr>\n",
       "      <th>multi_fac</th>\n",
       "      <td>1.863066</td>\n",
       "      <td>1.065654</td>\n",
       "      <td>1.981132</td>\n",
       "      <td>1.496309</td>\n",
       "      <td>1.983173</td>\n",
       "      <td>1.499647</td>\n",
       "    </tr>\n",
       "  </tbody>\n",
       "</table>\n",
       "</div>"
      ],
      "text/plain": [
       "            minvar_in  minvar_out  maxdiv_in  maxdiv_out  riskpar_in  \\\n",
       "sample       0.324135    0.459263   0.216359    0.972021    0.388957   \n",
       "const        1.919394    1.088853   2.034555    1.496312    2.030639   \n",
       "single_fac   0.724936   -2.370988   0.824505   -1.888804    0.964412   \n",
       "multi_fac    1.863066    1.065654   1.981132    1.496309    1.983173   \n",
       "\n",
       "            riskpar_out  \n",
       "sample        -0.040061  \n",
       "const          1.495020  \n",
       "single_fac    -1.439753  \n",
       "multi_fac      1.499647  "
      ]
     },
     "metadata": {},
     "output_type": "display_data"
    }
   ],
   "source": [
    "N = 252*2   # period\n",
    "T = 2       # Year\n",
    "k = 10      # num of factors\n",
    "p = 30      # num of securities\n",
    "S0 = np.random.randn(p) + 10\n",
    "\n",
    "train_ratio = 0.8\n",
    "train_index = int(N*train_ratio)\n",
    "\n",
    "\n",
    "''' without factor, using geometric Brownian Motion here '''\n",
    "rf = 0.03\n",
    "np.random.seed(0)\n",
    "\n",
    "BM_corr = pd.DataFrame(np.random.randn(20, p)).corr().to_numpy()\n",
    "sig = np.diag(np.random.uniform(0.15, 0.3, p))\n",
    "BM_cov = sig @ BM_corr @ sig\n",
    "delta = T / N\n",
    "S = np.zeros((N+1, p))\n",
    "S[0] = S0\n",
    "z = np.random.multivariate_normal(np.zeros(p), BM_cov, N)\n",
    "for i in range(N):\n",
    "    S[i+1] = S[i] * np.exp((rf-(BM_cov**2).sum(axis=1)/2)*delta + np.sqrt(delta)*z[i])\n",
    "r = (S[1:] - S[:-1]) / S[:-1]\n",
    "\n",
    "\n",
    "r_train = r[:train_index]\n",
    "r_test = r[train_index:]\n",
    "res_nonlinear = eval((r_train,r_test),delta)\n",
    "print('Without linear factor structure')\n",
    "display(res_nonlinear)\n",
    "\n",
    "''' with linear factor structure '''\n",
    "f = r[:,np.random.choice(p,k)]\n",
    "\n",
    "beta = np.random.uniform(-1, 1, (k, p))\n",
    "u = np.random.randn(N, p) / 1000\n",
    "r = f @ beta + u\n",
    "\n",
    "r_train = r[:train_index]\n",
    "r_test = r[train_index:]\n",
    "res_linear = eval((r_train,r_test),delta,f[:train_index])\n",
    "print('-'*80)\n",
    "print('With linear factor structure')\n",
    "display(res_linear)"
   ]
  }
 ],
 "metadata": {
  "kernelspec": {
   "display_name": "Python 3",
   "language": "python",
   "name": "python3"
  },
  "language_info": {
   "codemirror_mode": {
    "name": "ipython",
    "version": 3
   },
   "file_extension": ".py",
   "mimetype": "text/x-python",
   "name": "python",
   "nbconvert_exporter": "python",
   "pygments_lexer": "ipython3",
   "version": "3.7.3"
  }
 },
 "nbformat": 4,
 "nbformat_minor": 2
}
